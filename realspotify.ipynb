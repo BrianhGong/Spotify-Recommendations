{
 "cells": [
  {
   "cell_type": "code",
   "execution_count": 3,
   "metadata": {},
   "outputs": [],
   "source": [
    "import pandas as pd\n",
    "import numpy as np\n",
    "import matplotlib.pyplot as plt\n",
    "from sklearn.preprocessing import MinMaxScaler\n",
    "import spotipy\n",
    "from spotipy.oauth2 import SpotifyClientCredentials\n",
    "from spotipy.oauth2 import SpotifyOAuth\n",
    "import spotipy.util as util"
   ]
  },
  {
   "cell_type": "code",
   "execution_count": 4,
   "metadata": {},
   "outputs": [],
   "source": [
    "def main(client_id, client_secret, your_playlist_name, genre, output_playlist_name):\n",
    "    sp = api_setup(client_id, client_secret)\n",
    "    playlist_dic = setup_playlists(sp)\n",
    "    playlist_df = generate_playlist_df(your_playlist_name, playlist_dic, sp) \n",
    "    playlist_df = generate_audio_features_df(playlist_df, sp)\n",
    "    df = create_comparison_df(genre, sp)\n",
    "    df = generate_audio_features_df(df, sp)\n",
    "    recs = create_recommendations(playlist_df, df, sp)\n",
    "    create_recommendations_playlists(recs, output_playlist_name)"
   ]
  },
  {
   "cell_type": "code",
   "execution_count": 5,
   "metadata": {},
   "outputs": [],
   "source": [
    "def api_setup(client_id, client_secret):\n",
    "    scope = 'playlist-write-private, playlist-modify-public'\n",
    "    token = util.prompt_for_user_token(\n",
    "    scope,\n",
    "    client_id= client_id, \n",
    "    client_secret=client_secret, \n",
    "    redirect_uri='http://localhost:8080/'\n",
    "    )\n",
    "    sp = spotipy.Spotify(auth=token)\n",
    "    return sp"
   ]
  },
  {
   "cell_type": "code",
   "execution_count": 6,
   "metadata": {},
   "outputs": [],
   "source": [
    "def setup_playlists(sp):\n",
    "  \n",
    "  playlist_dic = {}\n",
    "  for i in sp.current_user_playlists()['items']:\n",
    "      playlist_dic[i['name']] = i['uri'].split(':')[2]\n",
    "\n",
    "  return playlist_dic"
   ]
  },
  {
   "cell_type": "code",
   "execution_count": 4,
   "metadata": {},
   "outputs": [],
   "source": [
    "def generate_playlist_df(playlist_name, playlist_dic, sp):\n",
    "    playlist = pd.DataFrame()\n",
    "    tracks = []\n",
    "    offset = 0\n",
    "    limit = 100  \n",
    "    playlist_id = playlist_dic[playlist_name]\n",
    "    while True:\n",
    "        response = sp.playlist_tracks(playlist_id, offset=offset, limit=limit)\n",
    "        items = response['items']\n",
    "        if not items:\n",
    "            break\n",
    "        for item in items:\n",
    "            tracks.append(item['track'])\n",
    "        offset += len(items)\n",
    "    for i, j in enumerate(tracks):\n",
    "        playlist.loc[i, 'artist'] = j['artists'][0]['name']\n",
    "        playlist.loc[i, 'track_name'] = j['name']\n",
    "        playlist.loc[i, 'track_id'] = j['id']\n",
    "        playlist.loc[i, 'url'] = j['album']['images'][1]['url']\n",
    "    return playlist\n"
   ]
  },
  {
   "cell_type": "code",
   "execution_count": 5,
   "metadata": {},
   "outputs": [],
   "source": [
    "def generate_audio_features_df(playlist_df, sp):\n",
    "    playlist_df['acousticness'] = None\n",
    "    playlist_df['danceability'] = None\n",
    "    playlist_df['energy'] = None\n",
    "    playlist_df['instrumentalness'] = None\n",
    "    playlist_df['liveness'] = None\n",
    "    playlist_df['loudness'] = None\n",
    "    playlist_df['speechiness'] = None\n",
    "    playlist_df['tempo'] = None\n",
    "    playlist_df['valence'] = None\n",
    "    playlist_df['popularity'] = None\n",
    "    \n",
    "    for index, row in playlist_df.iterrows():\n",
    "        track_id = row['track_id']\n",
    "        audio_features = sp.audio_features(track_id)\n",
    "        track_info = sp.track(track_id)\n",
    "        if audio_features:\n",
    "            playlist_df.at[index, 'acousticness'] = audio_features[0]['acousticness']\n",
    "            playlist_df.at[index, 'danceability'] = audio_features[0]['danceability']\n",
    "            playlist_df.at[index, 'energy'] = audio_features[0]['energy']\n",
    "            playlist_df.at[index, 'instrumentalness'] = audio_features[0]['instrumentalness']\n",
    "            playlist_df.at[index, 'liveness'] = audio_features[0]['liveness']\n",
    "            playlist_df.at[index, 'loudness'] = audio_features[0]['loudness']\n",
    "            playlist_df.at[index, 'speechiness'] = audio_features[0]['speechiness']\n",
    "            playlist_df.at[index, 'tempo'] = audio_features[0]['tempo']\n",
    "            playlist_df.at[index, 'valence'] = audio_features[0]['valence']\n",
    "            playlist_df.at[index, 'popularity'] = track_info['popularity']\n",
    "\n",
    "    scaler = MinMaxScaler()\n",
    "    columns = ['acousticness', 'danceability', 'energy', 'instrumentalness', 'liveness', 'loudness', 'speechiness', 'tempo', 'valence', 'popularity']\n",
    "    playlist_df[columns] = scaler.fit_transform(playlist_df[columns])\n",
    "\n",
    "    playlist_df = playlist_df.drop_duplicates(subset=[\"loudness\"])\n",
    "    return playlist_df"
   ]
  },
  {
   "cell_type": "code",
   "execution_count": 6,
   "metadata": {},
   "outputs": [],
   "source": [
    "def generate_playlist_vector(playlist_df):\n",
    "    feature_columns = ['acousticness', 'danceability', 'energy', 'instrumentalness', 'liveness', 'loudness', 'speechiness', 'tempo', 'valence', 'popularity']\n",
    "    vector = playlist_df[feature_columns].mean()\n",
    "    return vector\n"
   ]
  },
  {
   "cell_type": "code",
   "execution_count": 7,
   "metadata": {},
   "outputs": [],
   "source": [
    "def create_comparison_df(genre, sp):\n",
    "    df = pd.DataFrame()\n",
    "    for i in range(7):\n",
    "        recommendations = sp.recommendations(seed_genres=[genre], limit=100)\n",
    "        tracks_data = []\n",
    "\n",
    "        for track in recommendations['tracks']:\n",
    "            \n",
    "            track_data = {\n",
    "                'track_name': track['name'],\n",
    "                'artist': ', '.join([artist['name'] for artist in track['artists']]),\n",
    "                'album': track['album']['name'],\n",
    "                'track_id': track['id']\n",
    "            }\n",
    "            tracks_data.append(track_data)\n",
    "\n",
    "        iteration_df = pd.DataFrame(tracks_data)\n",
    "        df = pd.concat([df, iteration_df], ignore_index=True)\n",
    "    \n",
    "    return df"
   ]
  },
  {
   "cell_type": "code",
   "execution_count": 8,
   "metadata": {},
   "outputs": [],
   "source": [
    "def create_recommendations(playlist_df, comparison_playlist, sp):\n",
    "    import numpy as np\n",
    "    feature_columns = ['acousticness', 'danceability', 'energy', 'instrumentalness', 'liveness', 'loudness', 'speechiness', 'tempo', 'valence', 'popularity']\n",
    "    vector = generate_playlist_vector(playlist_df)\n",
    "    comparison_playlist['cosine_similarity'] = None\n",
    "    dot_product = np.dot(comparison_playlist[feature_columns].values, vector)\n",
    "\n",
    "    norm_vector = np.linalg.norm(vector)\n",
    "    norm_features = np.linalg.norm(comparison_playlist[feature_columns].values, axis=1)\n",
    "    comparison_playlist['cosine_similarity'] = dot_product / (norm_vector * norm_features)\n",
    "    comparison_playlist = comparison_playlist.sort_values(by='cosine_similarity', ascending=False)\n",
    "    comparison_playlist = comparison_playlist[:50]\n",
    "    return comparison_playlist"
   ]
  },
  {
   "cell_type": "code",
   "execution_count": 9,
   "metadata": {},
   "outputs": [],
   "source": [
    "def create_recommendations_playlists(recs, playlist_name):\n",
    "    sp = spotipy.Spotify(\n",
    "        auth_manager=SpotifyOAuth(\n",
    "            scope=\"playlist-modify-private\",\n",
    "            redirect_uri='http://localhost:8080/',\n",
    "            client_id=\"10309c00c36c41bc80ffd50ccfcaef5c\",\n",
    "            client_secret=\"322b870e4d91487f81ce014d9aef65ef\",\n",
    "            cache_path=\"token.txt\"\n",
    "        )\n",
    "    )\n",
    "    results = sp.me()\n",
    "    results['id']\n",
    "    sp.user_playlist_create(sp.me()['id'], playlist_name, public=False, collaborative=False, description=\"Cosine Similarity Playlist!\")\n",
    "    playlist_dic = {}\n",
    "    for i in sp.current_user_playlists()['items']:\n",
    "        playlist_dic[i['name']] = i['uri'].split(':')[2]\n",
    "    playlist_id = playlist_dic[playlist_name]\n",
    "    sp.user_playlist_add_tracks(user=sp.me()['id'], playlist_id=playlist_id, tracks=recs['track_id'].tolist())"
   ]
  }
 ],
 "metadata": {
  "kernelspec": {
   "display_name": "base",
   "language": "python",
   "name": "python3"
  },
  "language_info": {
   "codemirror_mode": {
    "name": "ipython",
    "version": 3
   },
   "file_extension": ".py",
   "mimetype": "text/x-python",
   "name": "python",
   "nbconvert_exporter": "python",
   "pygments_lexer": "ipython3",
   "version": "3.9.12"
  },
  "orig_nbformat": 4
 },
 "nbformat": 4,
 "nbformat_minor": 2
}
